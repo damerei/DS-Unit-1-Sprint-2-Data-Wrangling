{
  "nbformat": 4,
  "nbformat_minor": 0,
  "metadata": {
    "colab": {
      "name": "LS_DS_121_Scrape_and_process_data.ipynb",
      "version": "0.3.2",
      "provenance": [],
      "collapsed_sections": []
    },
    "kernelspec": {
      "display_name": "Python 3",
      "language": "python",
      "name": "python3"
    }
  },
  "cells": [
    {
      "metadata": {
        "colab_type": "text",
        "id": "oR4Yeg3P07gu"
      },
      "cell_type": "markdown",
      "source": [
        "_Lambda School Data Science_\n",
        "\n",
        "# Scrape and process data\n",
        "\n",
        "Objectives\n",
        "- scrape and parse web pages\n",
        "- use list comprehensions\n",
        "- select rows and columns with pandas\n",
        "\n",
        "Links\n",
        "-  [Automate the Boring Stuff with Python, Chapter 11](https://automatetheboringstuff.com/chapter11/)\n",
        "  - Requests\n",
        "  - Beautiful Soup\n",
        "- [Python List Comprehensions: Explained Visually](https://treyhunner.com/2015/12/python-list-comprehensions-now-in-color/)\n",
        "- [Pandas Cheat Sheet](https://github.com/pandas-dev/pandas/blob/master/doc/cheatsheet/Pandas_Cheat_Sheet.pdf)\n",
        "  - Subset Observations (Rows)\n",
        "  - Subset Variables (Columns)\n",
        "- Python Data Science Handbook\n",
        "  - [Chapter 3.1](https://jakevdp.github.io/PythonDataScienceHandbook/03.01-introducing-pandas-objects.html), Introducing Pandas Objects\n",
        "  - [Chapter 3.2](https://jakevdp.github.io/PythonDataScienceHandbook/03.02-data-indexing-and-selection.html), Data Indexing and Selection\n"
      ]
    },
    {
      "metadata": {
        "colab_type": "text",
        "id": "I_NRVchqgGvM"
      },
      "cell_type": "markdown",
      "source": [
        "## Scrape the titles of PyCon 2019 talks"
      ]
    },
    {
      "metadata": {
        "colab_type": "code",
        "id": "3elw_8Nc7Tpe",
        "colab": {}
      },
      "cell_type": "code",
      "source": [
        "url = 'https://us.pycon.org/2019/schedule/talks/list/'\n",
        "\n",
        "res = requests.get(url)\n",
        "\n",
        "type(res)\n",
        "\n",
        "res.raise_for_status()\n",
        "\n",
        "elems = bs4.BeautifulSoup(res.text)\n",
        "\n",
        "elems = elems.select('.a id')\n",
        "\n",
        "\n",
        "# This ...\n",
        "titles = []\n",
        "for tag in soup.select('h2'):\n",
        "    title = tag.text.strip()\n",
        "    titles.append(title)\n",
        "    \n",
        "\n",
        "# ... is the same as this:\n",
        "titles = [tag.text.strip() \n",
        "          for tag in soup.select('h2')]\n"
      ],
      "execution_count": 0,
      "outputs": []
    },
    {
      "metadata": {
        "colab_type": "code",
        "id": "SFNsyjVsTU4b",
        "colab": {}
      },
      "cell_type": "code",
      "source": [
        ""
      ],
      "execution_count": 0,
      "outputs": []
    },
    {
      "metadata": {
        "colab_type": "text",
        "id": "vqkNgAzYpeK7"
      },
      "cell_type": "markdown",
      "source": [
        "## 5 ways to look at long titles\n",
        "\n",
        "Let's define a long title as greater than 80 characters"
      ]
    },
    {
      "metadata": {
        "id": "uvWBWa7T0A3Q",
        "colab_type": "text"
      },
      "cell_type": "markdown",
      "source": [
        ""
      ]
    },
    {
      "metadata": {
        "colab_type": "text",
        "id": "N7tqeZh14Fws"
      },
      "cell_type": "markdown",
      "source": [
        "### 1. For Loop"
      ]
    },
    {
      "metadata": {
        "colab_type": "code",
        "id": "kKxs5tqDApuZ",
        "colab": {}
      },
      "cell_type": "code",
      "source": [
        "long_titles = []\n",
        "for title in titles: \n",
        "  if len(titles) > 80: \n",
        "    #print(title)\n",
        "    long_titles.append()"
      ],
      "execution_count": 0,
      "outputs": []
    },
    {
      "metadata": {
        "colab_type": "text",
        "id": "I21jcEnK4IN7"
      },
      "cell_type": "markdown",
      "source": [
        "### 2. List Comprehension"
      ]
    },
    {
      "metadata": {
        "colab_type": "code",
        "id": "qaXe9UldAs3H",
        "colab": {}
      },
      "cell_type": "code",
      "source": [
        "\n",
        " long_titles = [title for title in titles if len(title)>80]                       "
      ],
      "execution_count": 0,
      "outputs": []
    },
    {
      "metadata": {
        "colab_type": "text",
        "id": "2kn8pxL-4yMG"
      },
      "cell_type": "markdown",
      "source": [
        "### 3. Filter with named function"
      ]
    },
    {
      "metadata": {
        "colab_type": "code",
        "id": "ywLqqFJNAvFm",
        "colab": {
          "base_uri": "https://localhost:8080/",
          "height": 126
        },
        "outputId": "83a06c3b-2985-4d4a-bc55-fb321deaa6d5"
      },
      "cell_type": "code",
      "source": [
        "def long(title): \n",
        "    return len(title) > 80 \n",
        "  \n",
        " long('Python is good')\n",
        "\n",
        "\n",
        "filter(long, titles)"
      ],
      "execution_count": 26,
      "outputs": [
        {
          "output_type": "error",
          "ename": "IndentationError",
          "evalue": "ignored",
          "traceback": [
            "\u001b[0;36m  File \u001b[0;32m\"<ipython-input-26-e6254e412c6f>\"\u001b[0;36m, line \u001b[0;32m4\u001b[0m\n\u001b[0;31m    long('Python is good')\u001b[0m\n\u001b[0m                          ^\u001b[0m\n\u001b[0;31mIndentationError\u001b[0m\u001b[0;31m:\u001b[0m unindent does not match any outer indentation level\n"
          ]
        }
      ]
    },
    {
      "metadata": {
        "colab_type": "text",
        "id": "IPIT6oXz40Q3"
      },
      "cell_type": "markdown",
      "source": [
        "### 4. Filter with anonymous function"
      ]
    },
    {
      "metadata": {
        "colab_type": "code",
        "id": "giIcFYkiAwiR",
        "colab": {}
      },
      "cell_type": "code",
      "source": [
        "filter (lambda t: len(t) > 80, titles)"
      ],
      "execution_count": 0,
      "outputs": []
    },
    {
      "metadata": {
        "colab_type": "text",
        "id": "qj8Yod8_45z4"
      },
      "cell_type": "markdown",
      "source": [
        "### 5. Pandas\n",
        "\n",
        "pandas documentation: [Working with Text Data](https://pandas.pydata.org/pandas-docs/stable/text.html)"
      ]
    },
    {
      "metadata": {
        "colab_type": "code",
        "id": "yRwPEHNcAzc_",
        "colab": {}
      },
      "cell_type": "code",
      "source": [
        "import pandas as pd \n",
        "pd.options.display.max_colwidth = 200\n",
        "\n",
        "df = pd.DateFrame({'title': titles})\n",
        "\n",
        "df[ df['title'].str.len() > 80]\n",
        "\n"
      ],
      "execution_count": 0,
      "outputs": []
    },
    {
      "metadata": {
        "colab_type": "text",
        "id": "8YaUZJvRp681"
      },
      "cell_type": "markdown",
      "source": [
        "## Make new dataframe columns\n",
        "\n",
        "pandas documentation: [apply](https://pandas.pydata.org/pandas-docs/stable/generated/pandas.Series.apply.html)"
      ]
    },
    {
      "metadata": {
        "colab_type": "code",
        "id": "DR_WZ-olA4-v",
        "colab": {}
      },
      "cell_type": "code",
      "source": [
        "import pandas as pd\n",
        "pd.options.display.max_colwidth = 200\n",
        "\n",
        "df = pd.DataFrame({'title': titles})\n",
        "df.shape"
      ],
      "execution_count": 0,
      "outputs": []
    },
    {
      "metadata": {
        "colab_type": "text",
        "id": "Ua74pMrGrsZR"
      },
      "cell_type": "markdown",
      "source": [
        "### title length"
      ]
    },
    {
      "metadata": {
        "colab_type": "code",
        "id": "p-Euz7tgA8Fd",
        "colab": {}
      },
      "cell_type": "code",
      "source": [
        "df['title length'] = df['title'].apply(len)"
      ],
      "execution_count": 0,
      "outputs": []
    },
    {
      "metadata": {
        "colab_type": "text",
        "id": "OgsKArXPrz5n"
      },
      "cell_type": "markdown",
      "source": [
        "### long title"
      ]
    },
    {
      "metadata": {
        "colab_type": "code",
        "id": "b_WCRvvKA-IP",
        "colab": {}
      },
      "cell_type": "code",
      "source": [
        "df[ df['title length'] > 80 ]\n",
        "\n",
        "df.loc[ df['title length'] > 80, 'title length']\n",
        "\n",
        "df['long title'] = df['title length'] > 80 \n",
        "\n"
      ],
      "execution_count": 0,
      "outputs": []
    },
    {
      "metadata": {
        "colab_type": "text",
        "id": "TonCXYPesUsT"
      },
      "cell_type": "markdown",
      "source": [
        "### first letter"
      ]
    },
    {
      "metadata": {
        "colab_type": "code",
        "id": "fhO4aABpBBgA",
        "colab": {}
      },
      "cell_type": "code",
      "source": [
        "df['title'].str[0]\n",
        "\n",
        "\n",
        "df[ df['first letter'] == 'p']\n",
        "\n",
        "df['p titles'] = df['title'].str[0] == 'p'\n",
        "\n"
      ],
      "execution_count": 0,
      "outputs": []
    },
    {
      "metadata": {
        "colab_type": "text",
        "id": "Etz1XeLKs6DL"
      },
      "cell_type": "markdown",
      "source": [
        "### word count\n",
        "\n",
        "Using [`textstat`](https://github.com/shivam5992/textstat)"
      ]
    },
    {
      "metadata": {
        "colab_type": "code",
        "id": "GVIkRWchs4zR",
        "colab": {}
      },
      "cell_type": "code",
      "source": [
        "!pip install textstat\n",
        "\n"
      ],
      "execution_count": 0,
      "outputs": []
    },
    {
      "metadata": {
        "colab_type": "code",
        "id": "mY_M_MuaBFrF",
        "colab": {}
      },
      "cell_type": "code",
      "source": [
        "df.['title'].apply(textstat.lexicon_count)"
      ],
      "execution_count": 0,
      "outputs": []
    },
    {
      "metadata": {
        "colab_type": "text",
        "id": "UN_7FABhwDqc"
      },
      "cell_type": "markdown",
      "source": [
        "## Rename column\n",
        "\n",
        "`title length` --> `title character count`\n",
        "\n",
        "pandas documentation: [rename](https://pandas.pydata.org/pandas-docs/stable/generated/pandas.DataFrame.rename.html)"
      ]
    },
    {
      "metadata": {
        "colab_type": "code",
        "id": "jvTif7sBBMpN",
        "colab": {}
      },
      "cell_type": "code",
      "source": [
        "df = df.rename(columns={'title length': 'title character count'})"
      ],
      "execution_count": 0,
      "outputs": []
    },
    {
      "metadata": {
        "colab_type": "text",
        "id": "ca2pDtytr5tR"
      },
      "cell_type": "markdown",
      "source": [
        "## Analyze the dataframe"
      ]
    },
    {
      "metadata": {
        "colab_type": "text",
        "id": "AitNVDCFwWwc"
      },
      "cell_type": "markdown",
      "source": [
        "### Describe\n",
        "\n",
        "pandas documentation: [describe](https://pandas.pydata.org/pandas-docs/stable/generated/pandas.DataFrame.describe.html)"
      ]
    },
    {
      "metadata": {
        "colab_type": "code",
        "id": "yPo9RdxYBQ64",
        "colab": {}
      },
      "cell_type": "code",
      "source": [
        "df.describe()"
      ],
      "execution_count": 0,
      "outputs": []
    },
    {
      "metadata": {
        "colab_type": "text",
        "id": "T0lc_o-xyjZU"
      },
      "cell_type": "markdown",
      "source": [
        "### Sort values\n",
        "\n",
        "pandas documentation: [sort_values](https://pandas.pydata.org/pandas-docs/stable/generated/pandas.DataFrame.sort_values.html)"
      ]
    },
    {
      "metadata": {
        "colab_type": "text",
        "id": "kxE2swJ9-cG_"
      },
      "cell_type": "markdown",
      "source": [
        "Five shortest titles, by character count"
      ]
    },
    {
      "metadata": {
        "colab_type": "code",
        "id": "7t8DlpLhBVQa",
        "colab": {}
      },
      "cell_type": "code",
      "source": [
        "df.sort_values(by='title character count').head(5)"
      ],
      "execution_count": 0,
      "outputs": []
    },
    {
      "metadata": {
        "colab_type": "text",
        "id": "NOEH4Ef5-kvo"
      },
      "cell_type": "markdown",
      "source": [
        "Titles sorted reverse alphabetically"
      ]
    },
    {
      "metadata": {
        "colab_type": "code",
        "id": "WkymeWDjBV8X",
        "colab": {}
      },
      "cell_type": "code",
      "source": [
        "df.sort_values(by='first letter', ascending=False).head()"
      ],
      "execution_count": 0,
      "outputs": []
    },
    {
      "metadata": {
        "colab_type": "text",
        "id": "e4wr42FB0GV-"
      },
      "cell_type": "markdown",
      "source": [
        "### Get value counts\n",
        "\n",
        "pandas documentation: [value_counts](https://pandas.pydata.org/pandas-docs/stable/generated/pandas.Series.value_counts.html)\n"
      ]
    },
    {
      "metadata": {
        "colab_type": "text",
        "id": "D81LNGaI-6ya"
      },
      "cell_type": "markdown",
      "source": [
        "Frequency counts of first letters"
      ]
    },
    {
      "metadata": {
        "colab_type": "code",
        "id": "AdTQYsRKBZio",
        "colab": {}
      },
      "cell_type": "code",
      "source": [
        "df['first letter'].value_counts()"
      ],
      "execution_count": 0,
      "outputs": []
    },
    {
      "metadata": {
        "colab_type": "text",
        "id": "04NVokvTAwqK"
      },
      "cell_type": "markdown",
      "source": [
        "Percentage of talks with long titles"
      ]
    },
    {
      "metadata": {
        "colab_type": "code",
        "id": "uS8qp4hrBat6",
        "colab": {}
      },
      "cell_type": "code",
      "source": [
        "df['long title'].value_counts(normalize=True)"
      ],
      "execution_count": 0,
      "outputs": []
    },
    {
      "metadata": {
        "colab_type": "text",
        "id": "mmYZL2QL0lgd"
      },
      "cell_type": "markdown",
      "source": [
        "### Plot\n",
        "\n",
        "pandas documentation: [Visualization](https://pandas.pydata.org/pandas-docs/stable/visualization.html)\n",
        "\n",
        "\n",
        "\n"
      ]
    },
    {
      "metadata": {
        "colab_type": "text",
        "id": "c6gCotA9_B68"
      },
      "cell_type": "markdown",
      "source": [
        "Top 5 most frequent first letters"
      ]
    },
    {
      "metadata": {
        "colab_type": "code",
        "id": "DUmcVcdXBdkw",
        "colab": {}
      },
      "cell_type": "code",
      "source": [
        "(df['first letter']\n",
        " .value_counts()\n",
        " .head(5)\n",
        " .plot\n",
        " .barh()); "
      ],
      "execution_count": 0,
      "outputs": []
    },
    {
      "metadata": {
        "colab_type": "text",
        "id": "_Ngegk0bASty"
      },
      "cell_type": "markdown",
      "source": [
        "Histogram of title lengths, in characters"
      ]
    },
    {
      "metadata": {
        "colab_type": "code",
        "id": "y5oLu2D4BeKw",
        "colab": {}
      },
      "cell_type": "code",
      "source": [
        "df['title in character count'].plot.hist(); \n",
        "\n"
      ],
      "execution_count": 0,
      "outputs": []
    },
    {
      "metadata": {
        "colab_type": "text",
        "id": "DiylH7LQw44u"
      },
      "cell_type": "markdown",
      "source": [
        "\n",
        "# Assignment\n",
        "\n",
        "**Scrape** the talk descriptions. Hint: `soup.select('.presentation-description')`\n",
        "\n",
        "**Make** new columns in the dataframe:\n",
        "- description\n",
        "- description character count\n",
        "- description word count\n",
        "\n",
        "**Describe** all the dataframe's columns. What's the average description word count? The minimum? The maximum?\n",
        "\n",
        "**Answer** the question: Which descriptions could fit in a tweet?\n",
        "\n",
        "\n",
        "# Stretch Challenge\n",
        "\n",
        "**Make** another new column in the dataframe:\n",
        "- description grade level (you can use [this `textstat` function](https://github.com/shivam5992/textstat#the-flesch-kincaid-grade-level) to get the Flesh-Kincaid grade level)\n",
        "\n",
        "**Answer** the question: What's the distribution of grade levels? Plot a histogram.\n",
        "\n",
        "**Be aware** that [Textstat has issues when sentences aren't separated by spaces](https://github.com/shivam5992/textstat/issues/77#issuecomment-453734048). (A Lambda School Data Science student helped identify this issue, and emailed with the developer.) \n",
        "\n",
        "Also, [BeautifulSoup doesn't separate paragraph tags with spaces](https://bugs.launchpad.net/beautifulsoup/+bug/1768330).\n",
        "\n",
        "So, you may get some inaccurate or surprising grade level estimates here. Don't worry, that's ok — but optionally, can you do anything to try improving the grade level estimates?"
      ]
    },
    {
      "metadata": {
        "id": "g5vbJGsTNTRd",
        "colab_type": "code",
        "colab": {
          "base_uri": "https://localhost:8080/",
          "height": 2325
        },
        "outputId": "387ac329-f390-4d49-b674-511109eaa63b"
      },
      "cell_type": "code",
      "source": [
        "import pandas as pd \n",
        "import numpy as np \n",
        "import seaborn as sns \n",
        "import requests\n",
        "import bs4\n",
        "!pip install textstat\n",
        "import textstat\n",
        "\n",
        "\n",
        "\n",
        "url = 'https://us.pycon.org/2019/schedule/talks/list/'\n",
        "\n",
        "res = requests.get(url)\n",
        "\n",
        "type(res)\n",
        "\n",
        "res.raise_for_status()\n",
        "\n",
        "\n",
        "example = bs4.BeautifulSoup(res.text)\n",
        "\n",
        "elems = example.select('.presentation-description')\n",
        "\n",
        "\n",
        "len(elems)\n",
        "\n",
        "elems[0]\n",
        "\n",
        "str(elems[0])\n",
        "\n",
        "elems[0].attrs\n",
        "\n",
        "elems[0].getText()\n",
        "\n",
        "elems[0].text.strip()\n",
        "\n",
        "descs = []    #Initializing list of descriptions\n",
        "\n",
        "for tag in elems: \n",
        "  desc = tag.text.strip()\n",
        "  descs.append(desc)\n",
        "  \n",
        "descs2 = [tag.text.replace('\\r\\n\\r\\n', ' ') for tag in elems]\n",
        "\n",
        "descriptions = pd.DataFrame({'Descriptions' : descs2})\n",
        "\n",
        "descriptions['Character Count'] = descriptions['Descriptions'].apply(len)\n",
        "\n",
        "descriptions['Word Count'] = descriptions[\"Descriptions\"].apply(textstat.lexicon_count)\n",
        "\n",
        "print(descriptions.describe())\n",
        "\n",
        "descriptions['Tweetable'] = descriptions['Character Count'] < 281\n",
        "\n",
        "print(descriptions)\n",
        "\n",
        "print(descriptions['Tweetable'].value_counts())\n",
        "\n",
        "# There is one tweetable description. \n",
        "\n"
      ],
      "execution_count": 54,
      "outputs": [
        {
          "output_type": "stream",
          "text": [
            "Requirement already satisfied: textstat in /usr/local/lib/python3.6/dist-packages (0.5.5)\n",
            "Requirement already satisfied: pyphen in /usr/local/lib/python3.6/dist-packages (from textstat) (0.9.5)\n",
            "Requirement already satisfied: repoze.lru in /usr/local/lib/python3.6/dist-packages (from textstat) (0.7)\n",
            "       Character Count  Word Count\n",
            "count        95.000000   95.000000\n",
            "mean        809.115789  130.821053\n",
            "std         412.596239   64.357872\n",
            "min         122.000000   20.000000\n",
            "25%         540.500000   85.500000\n",
            "50%         719.000000  116.000000\n",
            "75%        1011.000000  165.000000\n",
            "max        2818.000000  421.000000\n",
            "                                         Descriptions  Character Count  \\\n",
            "0   Have you ever wanted to write a GUI applicatio...              760   \n",
            "1   We rarely think about the dot “.” between our ...              298   \n",
            "2   Account security means making sure your users ...              428   \n",
            "3   Do you feel overwhelmed by the prospect of hav...              505   \n",
            "4   Everyone’s talking about it. Everyone’s using ...              644   \n",
            "5   We will look into a day in the life of a Softw...             1056   \n",
            "6   Medieval European Nobility was obsessed with L...              767   \n",
            "7   In July of 2018, Guido van Rossum stepped down...              670   \n",
            "8   If you maintain a library, how can you innovat...              337   \n",
            "9   Embroidery is an technology that dates back ce...              821   \n",
            "10  Security incident response is an intense, high...             1086   \n",
            "11  There's one part of building a Django app I ha...              631   \n",
            "12  Many new coders seek out open source projects,...              431   \n",
            "13  Bayesian A/B testing has gained much popularit...              814   \n",
            "14  Find yourself doing the same thing over and ov...              605   \n",
            "15  Observability is often thought of as just a ne...             1130   \n",
            "16  Have you ever thought about what open source s...             1238   \n",
            "17  We all have to package Python based applicatio...             2818   \n",
            "18  The admin interface that comes built-in with D...              792   \n",
            "19  We may not always know why we feel a certain w...              860   \n",
            "20  As teams and projects grow, code review become...              790   \n",
            "21  It’s 2019, and Moore’s Law is dead. CPU perfor...             1886   \n",
            "22  Python is known for its \"batteries included\" p...              661   \n",
            "23  Django Channels allows developers to make real...              410   \n",
            "24  Spoiler alert:  yes, remote work really does w...              784   \n",
            "25  Managing a large open source project like CPyt...              455   \n",
            "26  According to the always trustworthy Wikipedia,...             1347   \n",
            "27  It seems that every week there is a news story...              694   \n",
            "28  Millions of people across the world live in a ...             1025   \n",
            "29  If we knew all of the bugs we needed to write ...             1143   \n",
            "..                                                ...              ...   \n",
            "65  Notebooks have traditionally been a tool for d...              570   \n",
            "66  The deep learning hype is real, and the Python...              654   \n",
            "67  Packages that won't install, encodings that do...             1008   \n",
            "68  While high-level security concepts may transce...              708   \n",
            "69  Being able to release rapidly and continuously...              464   \n",
            "70  In the month of August 2018, Kerala, the south...             1622   \n",
            "71  I love Pokemon. However, I don't love how some...              501   \n",
            "72  Key takeaways: 1. Set operations enable simple...             1338   \n",
            "73  Profiling involves computing a set of data abo...             1092   \n",
            "74  Testing code is important. Testing, primarily ...              425   \n",
            "75  People live with mental health stigma because ...              483   \n",
            "76  Manually updating a million line code base is ...              449   \n",
            "77  GraphQL is an exciting technology that can hel...              334   \n",
            "78  Seeing the Earth from above is truly breathtak...              910   \n",
            "79  If you’ve ever `pip install`ed a Python packag...             1052   \n",
            "80  Inheritance is among the first concepts we lea...             1074   \n",
            "81  Many developers struggle to find the balance b...              719   \n",
            "82  The Zen of Python, accessed by running `import...              868   \n",
            "83  If you haven't tried multiprocessing or you ar...              477   \n",
            "84  We will cover how we used Python to adapt to a...              673   \n",
            "85  Using the pandas python library requires a shi...              589   \n",
            "86  Having libraries in your Python project proper...              669   \n",
            "87  One of the reasons why programming in Python i...             1177   \n",
            "88  Why come to yet another talk about CPython's G...              659   \n",
            "89  Type hinting for Python (as a linter tool) cam...              702   \n",
            "90  Knowing your enemies is as important as knowin...              549   \n",
            "91  Walk into any factory and you will see a Progr...             1014   \n",
            "92  Python 3.7 is here! In this talk, we’ll explor...              345   \n",
            "93  Everyone starts with the best intentions with ...              679   \n",
            "94  Time zones are complicated, but they are a fac...              836   \n",
            "\n",
            "    Word Count  Tweetable  \n",
            "0          135      False  \n",
            "1           56      False  \n",
            "2           66      False  \n",
            "3           84      False  \n",
            "4           96      False  \n",
            "5          176      False  \n",
            "6          124      False  \n",
            "7          107      False  \n",
            "8           50      False  \n",
            "9          133      False  \n",
            "10         179      False  \n",
            "11         108      False  \n",
            "12          69      False  \n",
            "13         127      False  \n",
            "14         103      False  \n",
            "15         164      False  \n",
            "16         213      False  \n",
            "17         421      False  \n",
            "18         127      False  \n",
            "19         145      False  \n",
            "20         134      False  \n",
            "21         311      False  \n",
            "22          98      False  \n",
            "23          61      False  \n",
            "24         133      False  \n",
            "25          80      False  \n",
            "26         212      False  \n",
            "27         112      False  \n",
            "28         159      False  \n",
            "29         206      False  \n",
            "..         ...        ...  \n",
            "65          84      False  \n",
            "66         109      False  \n",
            "67         170      False  \n",
            "68         116      False  \n",
            "69          75      False  \n",
            "70         261      False  \n",
            "71          77      False  \n",
            "72         207      False  \n",
            "73         178      False  \n",
            "74          64      False  \n",
            "75          82      False  \n",
            "76          70      False  \n",
            "77          52      False  \n",
            "78         151      False  \n",
            "79         177      False  \n",
            "80         166      False  \n",
            "81         116      False  \n",
            "82         150      False  \n",
            "83          66      False  \n",
            "84         106      False  \n",
            "85         102      False  \n",
            "86          97      False  \n",
            "87         201      False  \n",
            "88         122      False  \n",
            "89         115      False  \n",
            "90          88      False  \n",
            "91         184      False  \n",
            "92          57      False  \n",
            "93         114      False  \n",
            "94         108      False  \n",
            "\n",
            "[95 rows x 4 columns]\n",
            "False    94\n",
            "True      1\n",
            "Name: Tweetable, dtype: int64\n"
          ],
          "name": "stdout"
        }
      ]
    }
  ]
}